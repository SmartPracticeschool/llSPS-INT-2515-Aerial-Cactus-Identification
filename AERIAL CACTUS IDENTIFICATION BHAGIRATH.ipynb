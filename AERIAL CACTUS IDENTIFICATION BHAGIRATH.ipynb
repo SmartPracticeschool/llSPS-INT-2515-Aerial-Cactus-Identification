{
 "cells": [
  {
   "cell_type": "code",
   "execution_count": 5,
   "metadata": {},
   "outputs": [
    {
     "name": "stdout",
     "output_type": "stream",
     "text": [
      "Requirement already satisfied: opencv-python in c:\\users\\pvbha\\anaconda3\\lib\\site-packages (4.2.0.34)\n",
      "Requirement already satisfied: numpy>=1.14.5 in c:\\users\\pvbha\\anaconda3\\lib\\site-packages (from opencv-python) (1.18.1)\n"
     ]
    }
   ],
   "source": [
    "!pip install opencv-python"
   ]
  },
  {
   "cell_type": "code",
   "execution_count": 6,
   "metadata": {
    "collapsed": true
   },
   "outputs": [
    {
     "name": "stderr",
     "output_type": "stream",
     "text": [
      "Using TensorFlow backend.\n",
      "C:\\Users\\pvbha\\anaconda3\\lib\\site-packages\\tensorflow\\python\\framework\\dtypes.py:516: FutureWarning: Passing (type, 1) or '1type' as a synonym of type is deprecated; in a future version of numpy, it will be understood as (type, (1,)) / '(1,)type'.\n",
      "  _np_qint8 = np.dtype([(\"qint8\", np.int8, 1)])\n",
      "C:\\Users\\pvbha\\anaconda3\\lib\\site-packages\\tensorflow\\python\\framework\\dtypes.py:517: FutureWarning: Passing (type, 1) or '1type' as a synonym of type is deprecated; in a future version of numpy, it will be understood as (type, (1,)) / '(1,)type'.\n",
      "  _np_quint8 = np.dtype([(\"quint8\", np.uint8, 1)])\n",
      "C:\\Users\\pvbha\\anaconda3\\lib\\site-packages\\tensorflow\\python\\framework\\dtypes.py:518: FutureWarning: Passing (type, 1) or '1type' as a synonym of type is deprecated; in a future version of numpy, it will be understood as (type, (1,)) / '(1,)type'.\n",
      "  _np_qint16 = np.dtype([(\"qint16\", np.int16, 1)])\n",
      "C:\\Users\\pvbha\\anaconda3\\lib\\site-packages\\tensorflow\\python\\framework\\dtypes.py:519: FutureWarning: Passing (type, 1) or '1type' as a synonym of type is deprecated; in a future version of numpy, it will be understood as (type, (1,)) / '(1,)type'.\n",
      "  _np_quint16 = np.dtype([(\"quint16\", np.uint16, 1)])\n",
      "C:\\Users\\pvbha\\anaconda3\\lib\\site-packages\\tensorflow\\python\\framework\\dtypes.py:520: FutureWarning: Passing (type, 1) or '1type' as a synonym of type is deprecated; in a future version of numpy, it will be understood as (type, (1,)) / '(1,)type'.\n",
      "  _np_qint32 = np.dtype([(\"qint32\", np.int32, 1)])\n",
      "C:\\Users\\pvbha\\anaconda3\\lib\\site-packages\\tensorflow\\python\\framework\\dtypes.py:525: FutureWarning: Passing (type, 1) or '1type' as a synonym of type is deprecated; in a future version of numpy, it will be understood as (type, (1,)) / '(1,)type'.\n",
      "  np_resource = np.dtype([(\"resource\", np.ubyte, 1)])\n",
      "C:\\Users\\pvbha\\anaconda3\\lib\\site-packages\\tensorboard\\compat\\tensorflow_stub\\dtypes.py:541: FutureWarning: Passing (type, 1) or '1type' as a synonym of type is deprecated; in a future version of numpy, it will be understood as (type, (1,)) / '(1,)type'.\n",
      "  _np_qint8 = np.dtype([(\"qint8\", np.int8, 1)])\n",
      "C:\\Users\\pvbha\\anaconda3\\lib\\site-packages\\tensorboard\\compat\\tensorflow_stub\\dtypes.py:542: FutureWarning: Passing (type, 1) or '1type' as a synonym of type is deprecated; in a future version of numpy, it will be understood as (type, (1,)) / '(1,)type'.\n",
      "  _np_quint8 = np.dtype([(\"quint8\", np.uint8, 1)])\n",
      "C:\\Users\\pvbha\\anaconda3\\lib\\site-packages\\tensorboard\\compat\\tensorflow_stub\\dtypes.py:543: FutureWarning: Passing (type, 1) or '1type' as a synonym of type is deprecated; in a future version of numpy, it will be understood as (type, (1,)) / '(1,)type'.\n",
      "  _np_qint16 = np.dtype([(\"qint16\", np.int16, 1)])\n",
      "C:\\Users\\pvbha\\anaconda3\\lib\\site-packages\\tensorboard\\compat\\tensorflow_stub\\dtypes.py:544: FutureWarning: Passing (type, 1) or '1type' as a synonym of type is deprecated; in a future version of numpy, it will be understood as (type, (1,)) / '(1,)type'.\n",
      "  _np_quint16 = np.dtype([(\"quint16\", np.uint16, 1)])\n",
      "C:\\Users\\pvbha\\anaconda3\\lib\\site-packages\\tensorboard\\compat\\tensorflow_stub\\dtypes.py:545: FutureWarning: Passing (type, 1) or '1type' as a synonym of type is deprecated; in a future version of numpy, it will be understood as (type, (1,)) / '(1,)type'.\n",
      "  _np_qint32 = np.dtype([(\"qint32\", np.int32, 1)])\n",
      "C:\\Users\\pvbha\\anaconda3\\lib\\site-packages\\tensorboard\\compat\\tensorflow_stub\\dtypes.py:550: FutureWarning: Passing (type, 1) or '1type' as a synonym of type is deprecated; in a future version of numpy, it will be understood as (type, (1,)) / '(1,)type'.\n",
      "  np_resource = np.dtype([(\"resource\", np.ubyte, 1)])\n"
     ]
    }
   ],
   "source": [
    "import numpy as np\n",
    "import pandas as pd\n",
    "import matplotlib.pyplot as plt\n",
    "import matplotlib.image as mpimg\n",
    "import glob\n",
    "import scipy\n",
    "import cv2\n",
    "\n",
    "import keras"
   ]
  },
  {
   "cell_type": "code",
   "execution_count": 7,
   "metadata": {},
   "outputs": [],
   "source": [
    "import random"
   ]
  },
  {
   "cell_type": "code",
   "execution_count": 16,
   "metadata": {},
   "outputs": [],
   "source": [
    "train_data = pd.read_csv('C:\\\\Users\\\\pvbha\\\\Internship\\\\aerial-cactus-identification\\\\train.csv',encoding = \"ISO-8859-1\")"
   ]
  },
  {
   "cell_type": "code",
   "execution_count": 17,
   "metadata": {},
   "outputs": [
    {
     "data": {
      "text/plain": [
       "(17500, 2)"
      ]
     },
     "execution_count": 17,
     "metadata": {},
     "output_type": "execute_result"
    }
   ],
   "source": [
    "train_data.shape"
   ]
  },
  {
   "cell_type": "code",
   "execution_count": 18,
   "metadata": {},
   "outputs": [
    {
     "data": {
      "text/html": [
       "<div>\n",
       "<style scoped>\n",
       "    .dataframe tbody tr th:only-of-type {\n",
       "        vertical-align: middle;\n",
       "    }\n",
       "\n",
       "    .dataframe tbody tr th {\n",
       "        vertical-align: top;\n",
       "    }\n",
       "\n",
       "    .dataframe thead th {\n",
       "        text-align: right;\n",
       "    }\n",
       "</style>\n",
       "<table border=\"1\" class=\"dataframe\">\n",
       "  <thead>\n",
       "    <tr style=\"text-align: right;\">\n",
       "      <th></th>\n",
       "      <th>id</th>\n",
       "      <th>has_cactus</th>\n",
       "    </tr>\n",
       "  </thead>\n",
       "  <tbody>\n",
       "    <tr>\n",
       "      <th>0</th>\n",
       "      <td>0004be2cfeaba1c0361d39e2b000257b.jpg</td>\n",
       "      <td>1</td>\n",
       "    </tr>\n",
       "    <tr>\n",
       "      <th>1</th>\n",
       "      <td>000c8a36845c0208e833c79c1bffedd1.jpg</td>\n",
       "      <td>1</td>\n",
       "    </tr>\n",
       "    <tr>\n",
       "      <th>2</th>\n",
       "      <td>000d1e9a533f62e55c289303b072733d.jpg</td>\n",
       "      <td>1</td>\n",
       "    </tr>\n",
       "    <tr>\n",
       "      <th>3</th>\n",
       "      <td>0011485b40695e9138e92d0b3fb55128.jpg</td>\n",
       "      <td>1</td>\n",
       "    </tr>\n",
       "    <tr>\n",
       "      <th>4</th>\n",
       "      <td>0014d7a11e90b62848904c1418fc8cf2.jpg</td>\n",
       "      <td>1</td>\n",
       "    </tr>\n",
       "  </tbody>\n",
       "</table>\n",
       "</div>"
      ],
      "text/plain": [
       "                                     id  has_cactus\n",
       "0  0004be2cfeaba1c0361d39e2b000257b.jpg           1\n",
       "1  000c8a36845c0208e833c79c1bffedd1.jpg           1\n",
       "2  000d1e9a533f62e55c289303b072733d.jpg           1\n",
       "3  0011485b40695e9138e92d0b3fb55128.jpg           1\n",
       "4  0014d7a11e90b62848904c1418fc8cf2.jpg           1"
      ]
     },
     "execution_count": 18,
     "metadata": {},
     "output_type": "execute_result"
    }
   ],
   "source": [
    "train_data.head()"
   ]
  },
  {
   "cell_type": "code",
   "execution_count": 19,
   "metadata": {},
   "outputs": [
    {
     "data": {
      "text/plain": [
       "array([1, 0], dtype=int64)"
      ]
     },
     "execution_count": 19,
     "metadata": {},
     "output_type": "execute_result"
    }
   ],
   "source": [
    "train_data.has_cactus.unique()"
   ]
  },
  {
   "cell_type": "code",
   "execution_count": 20,
   "metadata": {},
   "outputs": [
    {
     "data": {
      "text/plain": [
       "<matplotlib.axes._subplots.AxesSubplot at 0x272b2895f48>"
      ]
     },
     "execution_count": 20,
     "metadata": {},
     "output_type": "execute_result"
    },
    {
     "data": {
      "image/png": "[encoded data removed]",
      "text/plain": [
       "<Figure size 432x288 with 1 Axes>"
      ]
     },
     "metadata": {
      "needs_background": "light"
     },
     "output_type": "display_data"
    }
   ],
   "source": [
    "train_data.has_cactus.hist()"
   ]
  },
  {
   "cell_type": "code",
   "execution_count": 21,
   "metadata": {},
   "outputs": [
    {
     "data": {
      "text/plain": [
       "1    13136\n",
       "0     4364\n",
       "Name: has_cactus, dtype: int64"
      ]
     },
     "execution_count": 21,
     "metadata": {},
     "output_type": "execute_result"
    }
   ],
   "source": [
    "train_data.has_cactus.value_counts()"
   ]
  },
  {
   "cell_type": "code",
   "execution_count": 22,
   "metadata": {},
   "outputs": [
    {
     "data": {
      "text/plain": [
       "<matplotlib.axes._subplots.AxesSubplot at 0x272b315e3c8>"
      ]
     },
     "execution_count": 22,
     "metadata": {},
     "output_type": "execute_result"
    },
    {
     "data": {
      "image/png": "[encoded data removed]",
      "text/plain": [
       "<Figure size 432x288 with 1 Axes>"
      ]
     },
     "metadata": {
      "needs_background": "light"
     },
     "output_type": "display_data"
    }
   ],
   "source": [
    "train_data.has_cactus.plot()"
   ]
  },
  {
   "cell_type": "code",
   "execution_count": 36,
   "metadata": {},
   "outputs": [],
   "source": [
    "def image_generator2(batch_size = 16, all_data=True, shuffle=True, train=True, indexes=None):\n",
    "    while True:\n",
    "        if indexes is None:\n",
    "            if train:\n",
    "                if all_data:\n",
    "                    indexes = np.arange(train_data.shape[0])\n",
    "                else:\n",
    "                    indexes = np.arange(train_data[:15000].shape[0])\n",
    "                if shuffle:\n",
    "                    np.random.shuffle(indexes)\n",
    "            else:\n",
    "                indexes = np.arange(train_data[15000:].shape[0])\n",
    "            \n",
    "        N = int(len(indexes) / batch_size)\n",
    "       \n",
    "\n",
    "        # Read in each input, perform preprocessing and get labels\n",
    "        for i in range(N):\n",
    "            current_indexes = indexes[i*batch_size: (i+1)*batch_size]\n",
    "            batch_input = []\n",
    "            batch_output = [] \n",
    "            for index in current_indexes:\n",
    "                img = mpimg.imread('C:\\\\Users\\\\pvbha\\\\Internship\\\\aerial-cactus-identification\\\\train\\\\train\\\\' + train_data.id[index])\n",
    "                batch_input += [img]\n",
    "                batch_input += [img[::-1, :, :]]\n",
    "                batch_input += [img[:, ::-1, :]]\n",
    "                batch_input += [np.rot90(img)]\n",
    "                \n",
    "                temp_img = np.zeros_like(img)\n",
    "                temp_img[:28, :, :] = img[4:, :, :]\n",
    "                batch_input += [temp_img]\n",
    "                \n",
    "                temp_img = np.zeros_like(img)\n",
    "                temp_img[:, :28, :] = img[:, 4:, :]\n",
    "                batch_input += [temp_img]\n",
    "                \n",
    "                temp_img = np.zeros_like(img)\n",
    "                temp_img[4:, :, :] = img[:28, :, :]\n",
    "                batch_input += [temp_img]\n",
    "                \n",
    "                temp_img = np.zeros_like(img)\n",
    "                temp_img[:, 4:, :] = img[:, :28, :]\n",
    "                batch_input += [temp_img]\n",
    "                \n",
    "                batch_input += [cv2.resize(img[2:30, 2:30, :], (32, 32))]\n",
    "                \n",
    "                batch_input += [scipy.ndimage.interpolation.rotate(img, 10, reshape=False)]\n",
    "                \n",
    "                batch_input += [scipy.ndimage.interpolation.rotate(img, 5, reshape=False)]\n",
    "                \n",
    "                \n",
    "                for _ in range(11):\n",
    "                    batch_output += [train_data.has_cactus[index]]\n",
    "                \n",
    "            batch_input = np.array( batch_input )\n",
    "            batch_output = np.array( batch_output )\n",
    "        \n",
    "            yield( batch_input, batch_output.reshape(-1, 1) )"
   ]
  },
  {
   "cell_type": "code",
   "execution_count": 37,
   "metadata": {},
   "outputs": [],
   "source": [
    "positive_examples = train_data[train_data.has_cactus==1]\n",
    "negative_examples = train_data[train_data.has_cactus==0]"
   ]
  },
  {
   "cell_type": "code",
   "execution_count": 38,
   "metadata": {},
   "outputs": [],
   "source": [
    "def augment_img(img):\n",
    "    batch_input = []\n",
    "    batch_input += [img]\n",
    "    batch_input += [img[::-1, :, :]]\n",
    "    batch_input += [img[:, ::-1, :]]\n",
    "    batch_input += [np.rot90(img)]\n",
    "                \n",
    "    temp_img = np.zeros_like(img)\n",
    "    temp_img[:28, :, :] = img[4:, :, :]\n",
    "    batch_input += [temp_img]\n",
    "                \n",
    "    temp_img = np.zeros_like(img)\n",
    "    temp_img[:, :28, :] = img[:, 4:, :]\n",
    "    batch_input += [temp_img]\n",
    "                \n",
    "    temp_img = np.zeros_like(img)\n",
    "    temp_img[4:, :, :] = img[:28, :, :]\n",
    "    batch_input += [temp_img]\n",
    "                \n",
    "    temp_img = np.zeros_like(img)\n",
    "    temp_img[:, 4:, :] = img[:, :28, :]\n",
    "    batch_input += [temp_img]\n",
    "                \n",
    "    batch_input += [cv2.resize(img[2:30, 2:30, :], (32, 32))]\n",
    "                \n",
    "    batch_input += [scipy.ndimage.interpolation.rotate(img, 10, reshape=False)]\n",
    "                \n",
    "    batch_input += [scipy.ndimage.interpolation.rotate(img, 5, reshape=False)]\n",
    "    \n",
    "    return batch_input"
   ]
  },
  {
   "cell_type": "code",
   "execution_count": 39,
   "metadata": {},
   "outputs": [],
   "source": [
    "def image_generator(batch_size = 8, all_data=True, shuffle=True, train=True, indexes=None):\n",
    "    while True:\n",
    "        if indexes is None:\n",
    "            if train:\n",
    "                indexes = positive_examples.index.tolist()\n",
    "                neg_indexes = negative_examples.index.tolist()\n",
    "                if shuffle:\n",
    "                    np.random.shuffle(indexes)\n",
    "                    np.random.shuffle(neg_indexes)\n",
    "            \n",
    "        N = int(len(indexes) / (batch_size/2))\n",
    "        neg_N = int(len(neg_indexes) / (batch_size/2))\n",
    "       \n",
    "        j = 0\n",
    "\n",
    "        # Read in each input, perform preprocessing and get labels\n",
    "        for i in range(N):\n",
    "            current_indexes = indexes[i*(batch_size//2): (i+1)*(batch_size//2)]\n",
    "            current_neg_indexes = neg_indexes[j*(batch_size//2): (j+1)*(batch_size//2)]\n",
    "            j = (j + 1) % neg_N\n",
    "            batch_input = []\n",
    "            batch_output = [] \n",
    "            for ind in range(len(current_indexes)):\n",
    "                index = current_indexes[ind]\n",
    "                neg_index = current_neg_indexes[ind]\n",
    "                \n",
    "                img = mpimg.imread('C:\\\\Users\\\\pvbha\\\\Internship\\\\aerial-cactus-identification\\\\train\\\\train\\\\' + train_data.id[index])\n",
    "                batch_input.extend(augment_img(img))\n",
    "                for _ in range(11):\n",
    "                    batch_output += [train_data.has_cactus[index]]\n",
    "                \n",
    "                neg_img = mpimg.imread('C:\\\\Users\\\\pvbha\\\\Internship\\\\aerial-cactus-identification\\\\train\\\\train\\\\' + train_data.id[neg_index])\n",
    "                batch_input.extend(augment_img(neg_img))\n",
    "                for _ in range(11):\n",
    "                    batch_output += [train_data.has_cactus[neg_index]]\n",
    "                \n",
    "#                 factor = 0.05\n",
    "#                 new_img = factor*neg_img + (1-factor)*img\n",
    "#                 batch_input.append(new_img)\n",
    "#                 batch_output += [factor*train_data.has_cactus[neg_index]+(1-factor)*train_data.has_cactus[index]]\n",
    "                \n",
    "#                 factor = 0.95\n",
    "#                 new_img = factor*neg_img + (1-factor)*img\n",
    "#                 batch_input.append(new_img)\n",
    "#                 batch_output += [factor*train_data.has_cactus[neg_index]+(1-factor)*train_data.has_cactus[index]]\n",
    "            \n",
    "                \n",
    "                \n",
    "            batch_input = np.array( batch_input )\n",
    "            batch_output = np.array( batch_output )\n",
    "        \n",
    "            yield( batch_input, batch_output.reshape(-1, 1) )\n"
   ]
  },
  {
   "cell_type": "code",
   "execution_count": 40,
   "metadata": {},
   "outputs": [],
   "source": [
    "model = keras.models.Sequential()\n",
    "model.add(keras.layers.Conv2D(64, (5, 5), input_shape=(32, 32, 3)))\n",
    "model.add(keras.layers.BatchNormalization())\n",
    "model.add(keras.layers.LeakyReLU(alpha=0.3))\n",
    "\n",
    "model.add(keras.layers.Conv2D(64, (5, 5)))\n",
    "model.add(keras.layers.BatchNormalization())\n",
    "model.add(keras.layers.LeakyReLU(alpha=0.3))\n",
    "\n",
    "model.add(keras.layers.Conv2D(128, (5, 5)))\n",
    "model.add(keras.layers.BatchNormalization())\n",
    "model.add(keras.layers.LeakyReLU(alpha=0.3))\n",
    "\n",
    "model.add(keras.layers.Conv2D(128, (5, 5)))\n",
    "model.add(keras.layers.BatchNormalization())\n",
    "model.add(keras.layers.LeakyReLU(alpha=0.3))\n",
    "\n",
    "model.add(keras.layers.Conv2D(256, (3, 3)))\n",
    "model.add(keras.layers.BatchNormalization())\n",
    "model.add(keras.layers.LeakyReLU(alpha=0.3))\n",
    "\n",
    "model.add(keras.layers.Conv2D(256, (3, 3)))\n",
    "model.add(keras.layers.BatchNormalization())\n",
    "model.add(keras.layers.LeakyReLU(alpha=0.3))\n",
    "\n",
    "model.add(keras.layers.Conv2D(512, (3, 3)))\n",
    "model.add(keras.layers.BatchNormalization())\n",
    "model.add(keras.layers.LeakyReLU(alpha=0.3))\n",
    "\n",
    "model.add(keras.layers.Flatten())\n",
    "\n",
    "\n",
    "model.add(keras.layers.Dense(100))\n",
    "model.add(keras.layers.BatchNormalization())\n",
    "model.add(keras.layers.LeakyReLU(alpha=0.3))\n",
    "\n",
    "model.add(keras.layers.Dense(1, activation='sigmoid'))"
   ]
  },
  {
   "cell_type": "code",
   "execution_count": 41,
   "metadata": {},
   "outputs": [],
   "source": [
    "opt = keras.optimizers.SGD(lr=0.0001, momentum=0.9, nesterov=True)\n",
    "model.compile(optimizer=opt, loss='binary_crossentropy', metrics=['accuracy'])"
   ]
  },
  {
   "cell_type": "code",
   "execution_count": null,
   "metadata": {},
   "outputs": [
    {
     "name": "stdout",
     "output_type": "stream",
     "text": [
      "Epoch 1/30\n",
      "1505/2187 [===================>..........] - ETA: 48:35 - loss: 0.1155 - accuracy: 0.9572"
     ]
    }
   ],
   "source": [
    "def step_decay_schedule(initial_lr=1e-3, decay_factor=0.75, step_size=10):\n",
    "    '''\n",
    "    Wrapper function to create a LearningRateScheduler with step decay schedule.\n",
    "    '''\n",
    "    def schedule(epoch):\n",
    "        return initial_lr * (decay_factor ** np.floor(epoch/step_size))\n",
    "    \n",
    "    return keras.callbacks.LearningRateScheduler(schedule)\n",
    "\n",
    "lr_sched = step_decay_schedule(initial_lr=1e-3, decay_factor=0.75, step_size=2)\n",
    "early_stop = keras.callbacks.EarlyStopping(monitor='loss', patience=3)\n",
    "\n",
    "model.fit_generator(image_generator(), steps_per_epoch= train_data.shape[0] / 8, epochs=30, callbacks=[lr_sched, early_stop])"
   ]
  },
  {
   "cell_type": "code",
   "execution_count": null,
   "metadata": {},
   "outputs": [],
   "source": [
    "model.evaluate_generator(image_generator2(), steps=train_data.shape[0]//16)"
   ]
  },
  {
   "cell_type": "code",
   "execution_count": null,
   "metadata": {},
   "outputs": [],
   "source": []
  },
  {
   "cell_type": "code",
   "execution_count": null,
   "metadata": {},
   "outputs": [],
   "source": []
  },
  {
   "cell_type": "code",
   "execution_count": null,
   "metadata": {},
   "outputs": [],
   "source": []
  },
  {
   "cell_type": "code",
   "execution_count": null,
   "metadata": {},
   "outputs": [],
   "source": []
  },
  {
   "cell_type": "code",
   "execution_count": null,
   "metadata": {},
   "outputs": [],
   "source": []
  },
  {
   "cell_type": "code",
   "execution_count": null,
   "metadata": {},
   "outputs": [],
   "source": []
  },
  {
   "cell_type": "code",
   "execution_count": null,
   "metadata": {},
   "outputs": [],
   "source": []
  },
  {
   "cell_type": "code",
   "execution_count": null,
   "metadata": {},
   "outputs": [],
   "source": []
  },
  {
   "cell_type": "code",
   "execution_count": null,
   "metadata": {},
   "outputs": [],
   "source": []
  },
  {
   "cell_type": "code",
   "execution_count": null,
   "metadata": {},
   "outputs": [],
   "source": []
  },
  {
   "cell_type": "code",
   "execution_count": null,
   "metadata": {},
   "outputs": [],
   "source": []
  },
  {
   "cell_type": "code",
   "execution_count": null,
   "metadata": {},
   "outputs": [],
   "source": []
  },
  {
   "cell_type": "code",
   "execution_count": null,
   "metadata": {},
   "outputs": [],
   "source": []
  }
 ],
 "metadata": {
  "kernelspec": {
   "display_name": "Python 3",
   "language": "python",
   "name": "python3"
  },
  "language_info": {
   "codemirror_mode": {
    "name": "ipython",
    "version": 3
   },
   "file_extension": ".py",
   "mimetype": "text/x-python",
   "name": "python",
   "nbconvert_exporter": "python",
   "pygments_lexer": "ipython3",
   "version": "3.7.6"
  }
 },
 "nbformat": 4,
 "nbformat_minor": 4
}
